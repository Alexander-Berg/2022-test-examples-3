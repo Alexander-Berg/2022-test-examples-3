{
 "cells": [
  {
   "cell_type": "code",
   "execution_count": 1,
   "metadata": {},
   "outputs": [],
   "source": [
    "from nile.api.v1.clusters import Hahn as HahnYql"
   ]
  },
  {
   "cell_type": "code",
   "execution_count": 2,
   "metadata": {},
   "outputs": [],
   "source": [
    "from nile.api.v1.clusters.yt import Hahn as HahnYt"
   ]
  },
  {
   "cell_type": "code",
   "execution_count": 3,
   "metadata": {},
   "outputs": [],
   "source": [
    "import qb2.api.v1.filters as sf\n",
    "from nile.api.v1 import extractors as ne"
   ]
  },
  {
   "cell_type": "code",
   "execution_count": 4,
   "metadata": {},
   "outputs": [],
   "source": [
    "from tqdm.notebook import tqdm"
   ]
  },
  {
   "cell_type": "code",
   "execution_count": 5,
   "metadata": {},
   "outputs": [],
   "source": [
    "cluster = HahnYt(pool='alpaca')"
   ]
  },
  {
   "cell_type": "code",
   "execution_count": 6,
   "metadata": {},
   "outputs": [],
   "source": [
    "date = '2020-03-24'"
   ]
  },
  {
   "cell_type": "code",
   "execution_count": 7,
   "metadata": {},
   "outputs": [
    {
     "data": {
      "application/vnd.jupyter.widget-view+json": {
       "model_id": "b0a76b03220a4441b4e1023a69693edb",
       "version_major": 2,
       "version_minor": 0
      },
      "text/plain": [
       "HBox(children=(FloatProgress(value=0.0, max=6801.0), HTML(value=u'')))"
      ]
     },
     "metadata": {},
     "output_type": "display_data"
    },
    {
     "name": "stdout",
     "output_type": "stream",
     "text": [
      "\n"
     ]
    },
    {
     "data": {
      "text/plain": [
       "[Record(rs_id='003222', supplier_id=561382, supplier_type=1)]"
      ]
     },
     "execution_count": 7,
     "metadata": {},
     "output_type": "execute_result"
    }
   ],
   "source": [
    "[\n",
    "    x for x in \n",
    "    tqdm(cluster.read('//home/market/production/replenishment/order_planning/latest/intermediate/suppliers'))\n",
    "    if x.rs_id=='003222'\n",
    "]"
   ]
  },
  {
   "cell_type": "code",
   "execution_count": 8,
   "metadata": {},
   "outputs": [],
   "source": [
    "pilot_suppliers = {481645}"
   ]
  },
  {
   "cell_type": "code",
   "execution_count": 9,
   "metadata": {},
   "outputs": [],
   "source": [
    "from qb2.api.v1 import extractors as se\n",
    "from qb2.api.v1 import filters as sf"
   ]
  },
  {
   "cell_type": "code",
   "execution_count": 10,
   "metadata": {},
   "outputs": [
    {
     "data": {
      "application/vnd.jupyter.widget-view+json": {
       "model_id": "6dd6f831f4b9499ea34ee145c68094ea",
       "version_major": 2,
       "version_minor": 0
      },
      "text/plain": [
       "VBox()"
      ]
     },
     "metadata": {},
     "output_type": "display_data"
    }
   ],
   "source": [
    "job = cluster.job().env(parallel_operations_limit=10)\n",
    "tmp = (\n",
    "    job.table('//home/market/production/replenishment/order_planning/{}/intermediate/assortment'.format(date))\n",
    "    .qb2(\n",
    "        log='generic-yson-log',\n",
    "        fields=[\n",
    "            se.log_field('supplier_id').hide(),\n",
    "            se.log_field('msku'),\n",
    "        ],\n",
    "        filters=[\n",
    "            sf.one_of('supplier_id', pilot_suppliers)\n",
    "        ],\n",
    "        intensity='cpu'\n",
    "    )\n",
    "    .put('//tmp/astepanel-sample-assortment1', merge_strategy='never')\n",
    ")\n",
    "\n",
    "job.run()\n",
    "\n"
   ]
  },
  {
   "cell_type": "code",
   "execution_count": 11,
   "metadata": {},
   "outputs": [
    {
     "data": {
      "application/vnd.jupyter.widget-view+json": {
       "model_id": "4c04c7ef7c99405db4aed22c779441e2",
       "version_major": 2,
       "version_minor": 0
      },
      "text/plain": [
       "HBox(children=(FloatProgress(value=0.0, max=840.0), HTML(value=u'')))"
      ]
     },
     "metadata": {},
     "output_type": "display_data"
    },
    {
     "name": "stdout",
     "output_type": "stream",
     "text": [
      "\n"
     ]
    }
   ],
   "source": [
    "pilot_mskus=set([\n",
    "    x.msku for x in \n",
    "    tqdm(cluster.read('//tmp/astepanel-sample-assortment1'))\n",
    "    ]\n",
    ")"
   ]
  },
  {
   "cell_type": "code",
   "execution_count": 12,
   "metadata": {},
   "outputs": [
    {
     "data": {
      "text/plain": [
       "405"
      ]
     },
     "execution_count": 12,
     "metadata": {},
     "output_type": "execute_result"
    }
   ],
   "source": [
    "len(pilot_mskus)"
   ]
  },
  {
   "cell_type": "code",
   "execution_count": 13,
   "metadata": {},
   "outputs": [
    {
     "data": {
      "text/plain": [
       "1"
      ]
     },
     "execution_count": 13,
     "metadata": {},
     "output_type": "execute_result"
    }
   ],
   "source": [
    "len(pilot_suppliers)"
   ]
  },
  {
   "cell_type": "code",
   "execution_count": 14,
   "metadata": {},
   "outputs": [],
   "source": [
    "job = cluster.job().env(parallel_operations_limit=10)"
   ]
  },
  {
   "cell_type": "code",
   "execution_count": 15,
   "metadata": {},
   "outputs": [],
   "source": [
    "orders = (\n",
    "    job.table('//home/market/production/replenishment/order_planning/{}/intermediate/orders_alpaca'.format(date))\n",
    "    .filter(sf.one_of('msku', pilot_mskus))\n",
    "    .put('//home/market/development/replenishment/denisk/test1/orders_alpaca', merge_strategy = 'never')\n",
    ")"
   ]
  },
  {
   "cell_type": "code",
   "execution_count": 16,
   "metadata": {},
   "outputs": [],
   "source": [
    "prices = (\n",
    "    job.table('//home/market/production/replenishment/order_planning/{}/intermediate/prices_alpaca'.format(date))\n",
    "    .filter(sf.one_of('msku', pilot_mskus))\n",
    "    .put('//home/market/development/replenishment/denisk/test1/prices_alpaca', merge_strategy = 'never')\n",
    ")"
   ]
  },
  {
   "cell_type": "code",
   "execution_count": 17,
   "metadata": {},
   "outputs": [],
   "source": [
    "transits = (\n",
    "    job.table('//home/market/production/replenishment/order_planning/{}/outputs/transits'.format(date))\n",
    "    .filter(sf.one_of('msku', pilot_mskus))\n",
    "    .put('//home/market/development/replenishment/denisk/test1/transits', merge_strategy = 'never')\n",
    ")"
   ]
  },
  {
   "cell_type": "code",
   "execution_count": 18,
   "metadata": {},
   "outputs": [],
   "source": [
    "stock = (\n",
    "    job.table('//home/market/production/replenishment/order_planning/{}/intermediate/stock_alpaca'.format(date))\n",
    "    .filter(sf.one_of('msku', pilot_mskus))\n",
    "    .put('//home/market/development/replenishment/denisk/test1/stock_alpaca', merge_strategy = 'never')\n",
    ")"
   ]
  },
  {
   "cell_type": "code",
   "execution_count": 19,
   "metadata": {},
   "outputs": [],
   "source": [
    "forecast  =(\n",
    "    job.table('//home/market/production/replenishment/order_planning/{}/intermediate/forecast_alpaca'.format(date))\n",
    "    .filter(sf.one_of('msku', pilot_mskus))\n",
    "    .put('//home/market/development/replenishment/denisk/test1/forecast_alpaca', merge_strategy = 'never')\n",
    ")"
   ]
  },
  {
   "cell_type": "code",
   "execution_count": 20,
   "metadata": {},
   "outputs": [],
   "source": [
    "ss = (\n",
    "    job.table('//home/market/production/replenishment/order_planning/{}/intermediate/ss'.format(date))\n",
    "    .filter(sf.one_of('msku', pilot_mskus))\n",
    "    .put('//home/market/development/replenishment/denisk/test1/ss', merge_strategy = 'never')\n",
    ")"
   ]
  },
  {
   "cell_type": "code",
   "execution_count": 21,
   "metadata": {},
   "outputs": [],
   "source": [
    "delivery_options= (\n",
    "    job.table('//home/market/production/replenishment/order_planning/{}/intermediate/delivery_options'.format(date))\n",
    "    .filter(sf.one_of('supplier_id', pilot_suppliers))\n",
    "    .put('//home/market/development/replenishment/denisk/test1/delivery_options', merge_strategy = 'never')\n",
    ")"
   ]
  },
  {
   "cell_type": "code",
   "execution_count": 22,
   "metadata": {},
   "outputs": [],
   "source": [
    "msku_delivery_options = (\n",
    "    job.table('//home/market/production/replenishment/order_planning/{}/intermediate/msku_delivery_options'.format(date))\n",
    "    .filter(sf.one_of('msku', pilot_mskus))\n",
    "    .put('//home/market/development/replenishment/denisk/test1/msku_delivery_options', merge_strategy = 'never')\n",
    ")"
   ]
  },
  {
   "cell_type": "code",
   "execution_count": 23,
   "metadata": {},
   "outputs": [],
   "source": [
    "assortment = (\n",
    "    job.table('//home/market/production/replenishment/order_planning/{}/intermediate/assortment'.format(date))\n",
    "    .filter(sf.one_of('msku', pilot_mskus))\n",
    "    .put('//home/market/development/replenishment/denisk/test1/assortment', merge_strategy = 'never')\n",
    ")"
   ]
  },
  {
   "cell_type": "code",
   "execution_count": 24,
   "metadata": {},
   "outputs": [],
   "source": [
    "warehouses = (\n",
    "    job.table('//home/market/production/replenishment/order_planning/latest/inputs/warehouses_raw')\n",
    "    .put('//home/market/development/replenishment/denisk/test1/warehouses', merge_strategy = 'never')\n",
    ")"
   ]
  },
  {
   "cell_type": "code",
   "execution_count": 25,
   "metadata": {},
   "outputs": [],
   "source": [
    "suppliers = (\n",
    "    job.table('//home/market/production/replenishment/order_planning/latest/intermediate/suppliers')\n",
    "    .project(\n",
    "        ne.all(),\n",
    "        date_abs_errs=ne.const({\"0\": 1.0}),\n",
    "        qty_rel_errs=ne.const({\"0\": 1.0})\n",
    "    )\n",
    "    .put('//home/market/development/replenishment/denisk/test1/suppliers', merge_strategy = 'never')\n",
    ")"
   ]
  },
  {
   "cell_type": "code",
   "execution_count": 26,
   "metadata": {},
   "outputs": [],
   "source": [
    "from nile.api.v1 import aggregators as na"
   ]
  },
  {
   "cell_type": "code",
   "execution_count": 27,
   "metadata": {},
   "outputs": [],
   "source": [
    "from nile.api.v1 import extractors as ne"
   ]
  },
  {
   "cell_type": "code",
   "execution_count": 28,
   "metadata": {},
   "outputs": [],
   "source": [
    "# Закладка для SN по генерации семла весогабаритов\n",
    "# dimensions = (\n",
    "#     job.table('//home/market/production/mstat/analyst/regular/cubes_vertica/dim_aproximate_weight_and_dimensions')\n",
    "#     .project('msku','volume')\n",
    "# #     .filter(sf.one_of('msku', pilot_mskus))\n",
    "#     .groupby('msku')\n",
    "#     .aggregate(volume = na.mean('volume'))\n",
    "#     .put(\n",
    "#         '//home/market/development/replenishment/astepanel/alpaca_backtest_sample/intermediate/dimensions', \n",
    "#         merge_strategy = 'never',\n",
    "#         schema={\n",
    "#             'msku':int,\n",
    "#             'volume':float\n",
    "#         }\n",
    "#     )\n",
    "# )"
   ]
  },
  {
   "cell_type": "code",
   "execution_count": 29,
   "metadata": {},
   "outputs": [
    {
     "data": {
      "application/vnd.jupyter.widget-view+json": {
       "model_id": "fab9e145a94a4ecc81f973890cd8c32d",
       "version_major": 2,
       "version_minor": 0
      },
      "text/plain": [
       "VBox()"
      ]
     },
     "metadata": {},
     "output_type": "display_data"
    }
   ],
   "source": [
    "job.run()"
   ]
  },
  {
   "cell_type": "code",
   "execution_count": 30,
   "metadata": {
    "scrolled": true
   },
   "outputs": [
    {
     "name": "stdout",
     "output_type": "stream",
     "text": [
      "                                                \r"
     ]
    }
   ],
   "source": [
    "!yt read-table --format '<format=pretty>yson' //home/market/development/replenishment/denisk/test1/orders_alpaca > orders_alpaca.yson"
   ]
  },
  {
   "cell_type": "code",
   "execution_count": 31,
   "metadata": {
    "scrolled": true
   },
   "outputs": [
    {
     "name": "stdout",
     "output_type": "stream",
     "text": [
      "2020-03-31 12:54:09,826\tINFO\tTable chunks are too small; consider running the following command to improve read performance: yt merge --proxy hahn.yt.yandex.net --src //home/market/development/replenishment/denisk/test1/prices_alpaca --dst //home/market/development/replenishment/denisk/test1/prices_alpaca --spec '{combine_chunks=true;}'\n",
      "                                                 \r"
     ]
    }
   ],
   "source": [
    "!yt read-table --format '<format=pretty>yson' //home/market/development/replenishment/denisk/test1/prices_alpaca > prices_alpaca.yson"
   ]
  },
  {
   "cell_type": "code",
   "execution_count": 32,
   "metadata": {
    "scrolled": true
   },
   "outputs": [
    {
     "name": "stdout",
     "output_type": "stream",
     "text": [
      "                                          \r"
     ]
    }
   ],
   "source": [
    "!yt read-table --format '<format=pretty>yson' //home/market/development/replenishment/denisk/test1/transits > transits.yson"
   ]
  },
  {
   "cell_type": "code",
   "execution_count": 33,
   "metadata": {},
   "outputs": [
    {
     "name": "stdout",
     "output_type": "stream",
     "text": [
      "                                               \r"
     ]
    }
   ],
   "source": [
    "!yt read-table --format '<format=pretty>yson' //home/market/development/replenishment/denisk/test1/stock_alpaca > stock_alpaca.yson"
   ]
  },
  {
   "cell_type": "code",
   "execution_count": 34,
   "metadata": {},
   "outputs": [
    {
     "name": "stdout",
     "output_type": "stream",
     "text": [
      "                                                     \r"
     ]
    }
   ],
   "source": [
    "!yt read-table --format '<format=pretty>yson' //home/market/development/replenishment/denisk/test1/forecast_alpaca > forecast_alpaca.yson"
   ]
  },
  {
   "cell_type": "code",
   "execution_count": 35,
   "metadata": {},
   "outputs": [
    {
     "name": "stdout",
     "output_type": "stream",
     "text": [
      "                                        \r"
     ]
    }
   ],
   "source": [
    "!yt read-table --format '<format=pretty>yson' //home/market/development/replenishment/denisk/test1/ss > ss.yson"
   ]
  },
  {
   "cell_type": "code",
   "execution_count": 36,
   "metadata": {
    "scrolled": true
   },
   "outputs": [
    {
     "name": "stdout",
     "output_type": "stream",
     "text": [
      "                                                  \r"
     ]
    }
   ],
   "source": [
    "!yt read-table --format '<format=pretty>yson' //home/market/development/replenishment/denisk/test1/delivery_options > delivery_options.yson"
   ]
  },
  {
   "cell_type": "code",
   "execution_count": 37,
   "metadata": {},
   "outputs": [
    {
     "name": "stdout",
     "output_type": "stream",
     "text": [
      "                                                       \r"
     ]
    }
   ],
   "source": [
    "!yt read-table --format '<format=pretty>yson' //home/market/development/replenishment/denisk/test1/msku_delivery_options > msku_delivery_options.yson"
   ]
  },
  {
   "cell_type": "code",
   "execution_count": 38,
   "metadata": {},
   "outputs": [
    {
     "name": "stdout",
     "output_type": "stream",
     "text": [
      "                                              \r"
     ]
    }
   ],
   "source": [
    "!yt read-table --format '<format=pretty>yson' //home/market/development/replenishment/denisk/test1/assortment > assortment.yson"
   ]
  },
  {
   "cell_type": "code",
   "execution_count": 39,
   "metadata": {},
   "outputs": [
    {
     "name": "stdout",
     "output_type": "stream",
     "text": [
      "                                            \r"
     ]
    }
   ],
   "source": [
    "!yt read-table --format '<format=pretty>yson' //home/market/development/replenishment/denisk/test1/warehouses > warehouses.yson"
   ]
  },
  {
   "cell_type": "code",
   "execution_count": 40,
   "metadata": {},
   "outputs": [
    {
     "name": "stdout",
     "output_type": "stream",
     "text": [
      "                                            \r"
     ]
    }
   ],
   "source": [
    "!yt read-table --format '<format=pretty>yson' //home/market/development/replenishment/denisk/test1/suppliers > suppliers.yson"
   ]
  },
  {
   "cell_type": "code",
   "execution_count": 41,
   "metadata": {
    "scrolled": true
   },
   "outputs": [
    {
     "name": "stdout",
     "output_type": "stream",
     "text": [
      "{\r\n",
      "    \"supplier_id\" = 460741;\r\n",
      "    \"rs_id\" = #;\r\n",
      "    \"supplier_type\" = 3;\r\n",
      "};\r\n",
      "{\r\n",
      "    \"supplier_id\" = 462656;\r\n",
      "    \"rs_id\" = #;\r\n",
      "    \"supplier_type\" = 3;\r\n",
      "};\r\n"
     ]
    }
   ],
   "source": [
    "!head -10 suppliers.yson"
   ]
  },
  {
   "cell_type": "code",
   "execution_count": 42,
   "metadata": {},
   "outputs": [
    {
     "name": "stdout",
     "output_type": "stream",
     "text": [
      "{\r\n",
      "    \"id\" = 4;\r\n",
      "    \"name\" = \"\\xD0\\xA1\\xD0\\xA6 \\xD0\\xA1\\xD0\\x94\\xD0\\xA2\";\r\n",
      "    \"type_field\" = \"sorting_center\";\r\n",
      "};\r\n",
      "{\r\n",
      "    \"id\" = 131;\r\n",
      "    \"name\" = \"\\xD0\\x9C\\xD0\\xB0\\xD1\\x80\\xD1\\x88\\xD1\\x80\\xD1\\x83\\xD1\\x82\";\r\n",
      "    \"type_field\" = \"sorting_center\";\r\n",
      "};\r\n"
     ]
    }
   ],
   "source": [
    "!head -10 warehouses.yson"
   ]
  },
  {
   "cell_type": "code",
   "execution_count": null,
   "metadata": {},
   "outputs": [],
   "source": []
  }
 ],
 "metadata": {
  "kernelspec": {
   "display_name": "Python 2",
   "language": "python",
   "name": "python2"
  },
  "language_info": {
   "codemirror_mode": {
    "name": "ipython",
    "version": 2
   },
   "file_extension": ".py",
   "mimetype": "text/x-python",
   "name": "python",
   "nbconvert_exporter": "python",
   "pygments_lexer": "ipython2",
   "version": "2.7.12"
  },
  "pycharm": {
   "stem_cell": {
    "cell_type": "raw",
    "source": [],
    "metadata": {
     "collapsed": false
    }
   }
  }
 },
 "nbformat": 4,
 "nbformat_minor": 2
}
