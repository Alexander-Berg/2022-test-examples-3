{
 "cells": [
  {
   "cell_type": "markdown",
   "id": "a2a2bca5",
   "metadata": {},
   "source": [
    "# YMBOT-133 - experiment on IMX219 sensor quality"
   ]
  },
  {
   "cell_type": "markdown",
   "id": "1232ca82",
   "metadata": {},
   "source": [
    "## Prepare:\n",
    "1. Imports\n",
    "2. Aliases\n",
    "3. Data paths and results"
   ]
  },
  {
   "cell_type": "code",
   "execution_count": 1,
   "id": "64b6ebea",
   "metadata": {},
   "outputs": [],
   "source": [
    "import os\n",
    "from datetime import datetime\n",
    "import pandas as pd\n",
    "\n",
    "from ymbot_cv_utils.toloka.outputs import PolygonOutput\n",
    "from ymbot_cv_utils.toloka.image_cropper import TolokaImageCropper\n",
    "from ymbot_cv_utils.ya_pic_decoder.barcode_decoder import BarcodeDecoder\n",
    "from ymbot_cv_utils.utils.image_loader import ImageLoader\n",
    "from ymbot_cv_utils.ya_pic_decoder.code_info import CodeInfo"
   ]
  },
  {
   "cell_type": "code",
   "execution_count": 2,
   "id": "4c57572b",
   "metadata": {},
   "outputs": [],
   "source": [
    "# useful aliases for Toloka lebeling file\n",
    "\n",
    "a_input = \"INPUT:image\"\n",
    "a_output = \"OUTPUT:result\"\n",
    "a_status = \"ASSIGNMENT:status\"\n",
    "a_started_dt = \"ASSIGNMENT:started\"\n",
    "a_submited_dt = \"ASSIGNMENT:submitted\"\n",
    "a_accepted_dt = \"ASSIGNMENT:accepted\"\n",
    "a_skipped_dt = \"ASSIGNMENT:skipped\"\n",
    "\n",
    "a_approved_status = \"APPROVED\"\n",
    "a_skipped_status = \"SKIPPED\"\n",
    "\n",
    "# labeling types\n",
    "a_plt_qr = \"plt_qr\"\n",
    "a_plt_bar = \"plt_bar\"\n",
    "a_drp = \"drp\"\n",
    "\n",
    "# result columns\n",
    "a_res_type = \"type\"\n",
    "a_res_dist = \"distance\"\n",
    "a_res_cond = \"condition\"\n",
    "a_res_expected = \"expected\"\n",
    "a_res_result = \"result\"\n",
    "a_res_code_type = \"code_type\"\n",
    "a_res_coincidence = \"coincidence\"\n",
    "a_res_time = \"label_time(sec)\"\n",
    "a_res_filename = \"crop_filename\"\n"
   ]
  },
  {
   "cell_type": "code",
   "execution_count": 3,
   "id": "6fe1cb64",
   "metadata": {},
   "outputs": [],
   "source": [
    "# prepare files from https://wiki.yandex-team.ru/roboticsmarket/cv/research/experiments/experimentimx290/#rezultatyrazmetki\n",
    "tsv_files = {\n",
    "    a_plt_qr: \"data/assignments_from_pool_1118587__02-03-2022_PLT_QR.tsv\",\n",
    "    a_plt_bar: \"data/assignments_from_pool_1118626__02-03-2022 PLT_BAR.tsv\",\n",
    "    a_drp: \"data/assignments_from_pool_1118655__02-03-2022_DRP.tsv\"\n",
    "}\n",
    "\n",
    "expected_results = {\n",
    "    a_plt_qr: \"PLT0065762\",\n",
    "    a_plt_bar: \"PLT0065761\",\n",
    "    a_drp: \"DRP0002571\",\n",
    "}\n"
   ]
  },
  {
   "cell_type": "markdown",
   "id": "14badd7b",
   "metadata": {},
   "source": [
    "## Experiments structures\n",
    "1. LightConditionType - discribes light condition as Enum\n",
    "2. FrameInfo - filename parser to components:\n",
    "   - distance\n",
    "   - timestamp\n",
    "   - condition\n",
    "   - frame_id"
   ]
  },
  {
   "cell_type": "code",
   "execution_count": 4,
   "id": "1312582c",
   "metadata": {},
   "outputs": [
    {
     "data": {
      "text/plain": [
       "(Frame 5001 on range 125 with condition dark,\n",
       " 'dark',\n",
       " 5001,\n",
       " 1644930303.7325857,\n",
       " 125)"
      ]
     },
     "execution_count": 4,
     "metadata": {},
     "output_type": "execute_result"
    }
   ],
   "source": [
    "from enum import Enum\n",
    "\n",
    "\n",
    "class LightConditionType(Enum):\n",
    "    DARK = \"dark\"\n",
    "    LIGHT = \"light\"\n",
    "    DIRECT = \"direct\"\n",
    "\n",
    "\n",
    "class FrameInfo:\n",
    "    _distance: int\n",
    "    _frame_id: int\n",
    "    _ts: float\n",
    "    _condition: LightConditionType\n",
    "\n",
    "    @property\n",
    "    def distance(self):\n",
    "        return self._distance\n",
    "\n",
    "    @property\n",
    "    def ts(self):\n",
    "        return self._ts\n",
    "\n",
    "    @property\n",
    "    def condition(self):\n",
    "        return self._condition.value\n",
    "\n",
    "    @property\n",
    "    def frame_id(self):\n",
    "        return self._frame_id\n",
    "\n",
    "    def __init__(self, filename: str) -> None:\n",
    "        filename = filename.split('/')[-1]\n",
    "        parts = filename.split('_')\n",
    "        self._distance = int(parts[0].replace('cm', ''))\n",
    "        self._frame_id = int(parts[1])\n",
    "        self._ts = float(parts[2])\n",
    "        self._condition = LightConditionType(parts[3].split('.')[0])\n",
    "\n",
    "    def __repr__(self):\n",
    "        return f\"Frame {self._frame_id} on range {self._distance} with condition {self._condition.value}\"\n",
    "\n",
    "# fast check:\n",
    "frame_info = FrameInfo(\n",
    "    \"https://ie.wampi.ru/2022/03/02/125cm_5001_1644930303.7325857_dark.jpg\")\n",
    "frame_info, frame_info.condition, frame_info.frame_id, frame_info.ts, frame_info.distance"
   ]
  },
  {
   "cell_type": "markdown",
   "id": "e3e1cce8",
   "metadata": {},
   "source": [
    "## Calculating\n",
    "\n",
    "1. Create empty dataframe\n",
    "2. Iterate on each type of labeled codes\n",
    "   1. Open and prepare df with tsv data\n",
    "   2. For each record:\n",
    "      - loading image\n",
    "      - crop\n",
    "      - decoding\n",
    "      - write results\n"
   ]
  },
  {
   "cell_type": "code",
   "execution_count": 5,
   "id": "d4494c0b",
   "metadata": {},
   "outputs": [],
   "source": [
    "BASE_DIR = \"./crops\"\n",
    "os.makedirs(BASE_DIR, exist_ok=True)\n",
    "\n",
    "columns = [a_res_type,\n",
    "           a_res_dist,\n",
    "           a_res_cond,\n",
    "           a_res_expected,\n",
    "           a_res_result,\n",
    "           a_res_code_type,\n",
    "           a_res_coincidence,\n",
    "           a_res_time,\n",
    "           a_res_filename,\n",
    "           a_input]\n",
    "res_df = pd.DataFrame(columns=columns)\n",
    "\n",
    "label_types = [a_plt_bar, a_plt_qr, a_drp]\n",
    "\n",
    "for label_type in label_types:\n",
    "\n",
    "    # tsv df prepare\n",
    "    df = pd.read_csv(tsv_files[label_type], sep='\\t')\n",
    "    df = df.dropna(how='all', axis=0).dropna(how='all', axis=1)\n",
    "    df.reset_index(drop=True)\n",
    "\n",
    "    for index, row in df.iterrows():\n",
    "        if row[a_status] == a_approved_status:\n",
    "            image = ImageLoader.load(row[a_input])\n",
    "            crop = TolokaImageCropper.get_crop(image, row[a_output], PolygonOutput)\n",
    "            codes = BarcodeDecoder.decode(crop)\n",
    "            code = CodeInfo() if len(codes) != 1 else codes[0]\n",
    "            coincidence = code.value == expected_results[label_type]\n",
    "            frame_info = FrameInfo(row[a_input])\n",
    "            crop_filename = os.path.join(\n",
    "                BASE_DIR, f\"{label_type}_{frame_info.distance}_{frame_info.frame_id}_{frame_info.condition}.jpg\")\n",
    "            note = {\n",
    "                a_res_type: label_type,\n",
    "                a_res_dist: frame_info.distance,\n",
    "                a_res_cond: frame_info.condition,\n",
    "                a_res_expected: expected_results[label_type],\n",
    "                a_res_result: \"-\" if not code else code.value,\n",
    "                a_res_code_type: \"-\" if not code else code.type,\n",
    "                a_res_coincidence: 1 if coincidence else 0,\n",
    "                a_res_time: (datetime.fromisoformat(row[a_accepted_dt]) - datetime.fromisoformat(row[a_started_dt])).total_seconds(),\n",
    "                a_res_filename: crop_filename,\n",
    "                a_input: row[a_input]\n",
    "            }\n",
    "            res_df.loc[len(res_df)] = note\n",
    "            crop.save(crop_filename)\n",
    "\n",
    "        elif row[a_status] == a_skipped_status:\n",
    "            pass\n"
   ]
  },
  {
   "cell_type": "code",
   "execution_count": 6,
   "id": "22a520ff",
   "metadata": {},
   "outputs": [],
   "source": [
    "# record results to YMBOT-133 folder\n",
    "res_df.sort_values(by=[a_res_type,\n",
    "                       a_res_coincidence,\n",
    "                       a_res_dist,\n",
    "                       a_res_cond, ]).to_excel(\"output.xlsx\")\n"
   ]
  },
  {
   "cell_type": "code",
   "execution_count": null,
   "id": "228d3465",
   "metadata": {},
   "outputs": [],
   "source": []
  }
 ],
 "metadata": {
  "kernelspec": {
   "display_name": "Python 3",
   "language": "python",
   "name": "python3"
  },
  "language_info": {
   "codemirror_mode": {
    "name": "ipython",
    "version": 3
   },
   "file_extension": ".py",
   "mimetype": "text/x-python",
   "name": "python",
   "nbconvert_exporter": "python",
   "pygments_lexer": "ipython3",
   "version": "3.9.10"
  }
 },
 "nbformat": 4,
 "nbformat_minor": 5
}
