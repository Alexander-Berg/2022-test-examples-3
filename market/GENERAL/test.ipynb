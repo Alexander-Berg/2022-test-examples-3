{
  "cells": [
    {
      "cell_type": "code",
      "execution_count": null,
      "id": "cc8e6302",
      "metadata": {
        "trusted": false
      },
      "outputs": [],
      "source": "test"
    }
  ],
  "metadata": {
    "kernelspec": {
      "display_name": "Arcadia Python 2 Default",
      "language": "python",
      "name": "arcadia_default_py2"
    },
    "language_info": {
      "codemirror_mode": {
        "name": "ipython",
        "version": 2
      },
      "file_extension": ".py",
      "mimetype": "text/x-python",
      "name": "python",
      "nbconvert_exporter": "python",
      "pygments_lexer": "ipython2",
      "version": "2.7.16"
    }
  },
  "nbformat": 4,
  "nbformat_minor": 5
}