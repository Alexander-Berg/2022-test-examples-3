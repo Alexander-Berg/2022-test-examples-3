{
 "cells": [
  {
   "cell_type": "code",
   "execution_count": 1,
   "metadata": {
    "ExecuteTime": {
     "end_time": "2021-04-14T14:44:03.036251Z",
     "start_time": "2021-04-14T14:44:03.031399Z"
    }
   },
   "outputs": [],
   "source": [
    "# можно до редьюса и группировки по reqid сделать промежуточную табличку и локально подебажить обход по дереву\n",
    "# https://a.yandex-team.ru/arc_vcs/search/analytics_keymetrics/regular/direct_cabinet/baobab_to_events.py?rev=d49dbef6677082aa0c3bcb6ec5111506e601cc94#L255"
   ]
  },
  {
   "cell_type": "code",
   "execution_count": 2,
   "metadata": {
    "ExecuteTime": {
     "end_time": "2021-04-14T14:44:05.151551Z",
     "start_time": "2021-04-14T14:44:03.040669Z"
    }
   },
   "outputs": [
    {
     "name": "stdout",
     "output_type": "stream",
     "text": [
      "Строк: 698\n"
     ]
    },
    {
     "data": {
      "text/plain": [
       "{'HTTP_REFERER': 'https://direct.yandex.ru/dna/grid/campaigns?filter=%D0%A1%D1%82%D0%B0%D1%82%D1%83%D1%81%20%3D%20%D0%92%D1%81%D0%B5%2C%20%D0%BA%D1%80%D0%BE%D0%BC%D0%B5%20%D0%B0%D1%80%D1%85%D0%B8%D0%B2%D0%BD%D1%8B%D1%85%7Cdim%20%3D%20CPC&tags=&ulogin=kim-a-2015',\n",
       " 'events': '%5B%7B%22data%22%3A%7B%22uid%22%3A%22319077082%22%2C%22yandexuid%22%3A%227918359461598019922%22%7D%2C%22event%22%3A%22visibility%22%2C%22type%22%3A%22hide%22%2C%22block-id%22%3A%22jx14bs%22%2C%22cts%22%3A1617949519186%2C%22trigger-event-id%22%3A%22kn9xd80a3%22%2C%22trigger-event-trusted%22%3Afalse%7D%5D',\n",
       " 'experiments': [[349809, 53],\n",
       "  [335013, 26],\n",
       "  [267758, 89],\n",
       "  [267755, 67],\n",
       "  [352301, 9],\n",
       "  [348335, 90],\n",
       "  [330180, 33],\n",
       "  [0, 0]],\n",
       " 'icookie': '7918359461598019922',\n",
       " 'ip': '94.25.168.108,94.25.168.108',\n",
       " 'reqid': '8066727188962238556',\n",
       " 'slots': '349809,0,53;335013,0,26;267758,0,89;267755,0,67;352301,0,9;348335,0,90;330180,0,33',\n",
       " 'table': 'direct',\n",
       " 'unixtime': '1617949527',\n",
       " 'url': '//direct.yandex.ru',\n",
       " 'yandexuid': '7918359461598019922'}"
      ]
     },
     "execution_count": 2,
     "metadata": {},
     "output_type": "execute_result"
    }
   ],
   "source": [
    "import yt.wrapper as yt\n",
    "import baobab\n",
    "import datetime as dt\n",
    "\n",
    "yt_client = yt.YtClient(proxy=\"hahn\")\n",
    "path = '//home/vipplanners/users/n-bar/OPERANALYTICS-1983/nile_test/2021-04-09T09:00:00[\"8066727188962238556\"]'\n",
    "table = yt_client.read_table(path, format=yt.JsonFormat(), raw=False)\n",
    "\n",
    "records = list(table)\n",
    "print \"Строк: %s\" % len(records)\n",
    "records[0]"
   ]
  },
  {
   "cell_type": "code",
   "execution_count": 3,
   "metadata": {
    "ExecuteTime": {
     "end_time": "2021-04-14T14:44:05.166884Z",
     "start_time": "2021-04-14T14:44:05.156565Z"
    }
   },
   "outputs": [
    {
     "data": {
      "text/plain": [
       "[{u'block-id': u'jx14bs',\n",
       "  u'cts': 1617949519186,\n",
       "  u'data': {u'uid': u'319077082', u'yandexuid': u'7918359461598019922'},\n",
       "  u'event': u'visibility',\n",
       "  u'trigger-event-id': u'kn9xd80a3',\n",
       "  u'trigger-event-trusted': False,\n",
       "  u'type': u'hide'}]"
      ]
     },
     "execution_count": 3,
     "metadata": {},
     "output_type": "execute_result"
    }
   ],
   "source": [
    "import json\n",
    "from urllib import unquote\n",
    "\n",
    "json.loads(unquote(records[0][\"events\"]))"
   ]
  },
  {
   "cell_type": "code",
   "execution_count": 4,
   "metadata": {
    "ExecuteTime": {
     "end_time": "2021-04-14T14:44:05.225743Z",
     "start_time": "2021-04-14T14:44:05.171787Z"
    }
   },
   "outputs": [
    {
     "data": {
      "text/plain": [
       "{u'cts': 1617949381888,\n",
       " u'data': {u'uid': u'319077082', u'yandexuid': u'7918359461598019922'},\n",
       " u'event': u'show',\n",
       " u'tree': {u'attrs': {u'pageUrl': u'direct.yandex.ru/dna/grid/campaigns?filter=%D0%A1%D1%82%D0%B0%D1%82%D1%83%D1%81%20%3D%20%D0%92%D1%81%D0%B5%2C%20%D0%BA%D1%80%D0%BE%D0%BC%D0%B5%20%D0%B0%D1%80%D1%85%D0%B8%D0%B2%D0%BD%D1%8B%D1%85%7Cdim%20%3D%20CPM&ulogin=kim-a-2015',\n",
       "   u'schema-ver': 0,\n",
       "   u'service': u'direct',\n",
       "   u'ui': u'desktop'},\n",
       "  u'children': [{u'children': [{u'id': u'jx142', u'name': u'ServicesMenu'},\n",
       "     {u'id': u'jx143', u'name': u'YandexLogo'},\n",
       "     {u'id': u'jx144', u'name': u'DirectLogo'},\n",
       "     {u'id': u'jx145', u'name': u'CommonWalletSettings'},\n",
       "     {u'id': u'jx146', u'name': u'HeaderInfoBlock'},\n",
       "     {u'id': u'jx147', u'name': u'FeedbackTooltip'},\n",
       "     {u'id': u'jx148', u'name': u'User'}],\n",
       "    u'id': u'jx141',\n",
       "    u'name': u'Header'},\n",
       "   {u'children': [{u'attrs': {u'id': u'expand'},\n",
       "      u'id': u'jx14a',\n",
       "      u'name': u'SidebarMenuItem'}],\n",
       "    u'id': u'jx149',\n",
       "    u'name': u'Sidebar'},\n",
       "   {u'id': u'jx14b', u'name': u'StyledLink'},\n",
       "   {u'id': u'jx14c', u'name': u'StyledLink'},\n",
       "   {u'id': u'jx14d', u'name': u'StyledLink'}],\n",
       "  u'id': u'jx140',\n",
       "  u'name': u'app'},\n",
       " u'trigger-event-id': None,\n",
       " u'trigger-event-trusted': False}"
      ]
     },
     "execution_count": 4,
     "metadata": {},
     "output_type": "execute_result"
    }
   ],
   "source": [
    "app_n = 0\n",
    "shows = 0\n",
    "clicks = 0\n",
    "for r in records:\n",
    "    json_events = json.loads(unquote(r[\"events\"]))\n",
    "    if 'tree' in json_events[0] and json_events[0]['tree']['name'] == 'app':\n",
    "        app = json_events[0]\n",
    "        app_n += 1\n",
    "    if 'event' in json_events[0] and json_events[0]['event'] == 'show':\n",
    "        shows += 1\n",
    "    if 'event' in json_events[0] and json_events[0]['event'] == 'click':\n",
    "        clicks += 1\n",
    "app"
   ]
  },
  {
   "cell_type": "code",
   "execution_count": 5,
   "metadata": {
    "ExecuteTime": {
     "end_time": "2021-04-14T14:44:05.236740Z",
     "start_time": "2021-04-14T14:44:05.228231Z"
    }
   },
   "outputs": [
    {
     "data": {
      "text/plain": [
       "(1, 1, 12)"
      ]
     },
     "execution_count": 5,
     "metadata": {},
     "output_type": "execute_result"
    }
   ],
   "source": [
    "app_n, shows, clicks"
   ]
  },
  {
   "cell_type": "code",
   "execution_count": 6,
   "metadata": {
    "ExecuteTime": {
     "end_time": "2021-04-14T14:44:05.307905Z",
     "start_time": "2021-04-14T14:44:05.240057Z"
    }
   },
   "outputs": [
    {
     "name": "stdout",
     "output_type": "stream",
     "text": [
      "Контекст транспорта для хита: 617\n",
      "yandexuid: 7918359461598019922\n",
      "slots: 349809,0,53;335013,0,26;267758,0,89;267755,0,67;352301,0,9;348335,0,90;330180,0,33\n"
     ]
    }
   ],
   "source": [
    "# def reduce_get_event_content(groups):\n",
    "# groups: [key|reqid, records]\n",
    "# records: [rows|fields]\n",
    "transport = baobab.TransportLevelParser()\n",
    "trees_merger = baobab.common.TreesAccumulateMerger()\n",
    "yandexuid = None\n",
    "slots = None\n",
    "\n",
    "for fields in records:\n",
    "    fields[\"dtype\"] = \"iweb\"\n",
    "    # парсинг контекста рядом с событием\n",
    "    ctx = transport.create_from_raw_redir_log_fields_dict(fields)\n",
    "    if ctx is not None:\n",
    "        trees_merger.add(ctx)\n",
    "        yandexuid = ctx.uid if ctx.uid else yandexuid\n",
    "        slots = fields[\"slots\"] if \"slots\" in fields else slots\n",
    "\n",
    "ctxs_merged = trees_merger.join()\n",
    "print \"Контекст транспорта для хита:\", len(ctxs_merged.ctxs)\n",
    "print \"yandexuid:\", yandexuid\n",
    "print \"slots:\", slots"
   ]
  },
  {
   "cell_type": "code",
   "execution_count": 7,
   "metadata": {
    "ExecuteTime": {
     "end_time": "2021-04-14T14:44:05.341290Z",
     "start_time": "2021-04-14T14:44:05.312462Z"
    }
   },
   "outputs": [
    {
     "name": "stdout",
     "output_type": "stream",
     "text": [
      "Деревьев: 1\n"
     ]
    }
   ],
   "source": [
    "# парсинг самих событий с раскладкой по деревьям\n",
    "visitor = baobab.visitor.ShowIndexerVisitor()\n",
    "parser = baobab.EventsParser()\n",
    "\n",
    "for ctx in ctxs_merged.ctxs:\n",
    "    parser.parse(ctx, visitor)\n",
    "\n",
    "print \"Деревьев:\", len(visitor.baobab_tree_id_2_baobab_data)"
   ]
  },
  {
   "cell_type": "code",
   "execution_count": 8,
   "metadata": {
    "ExecuteTime": {
     "end_time": "2021-04-14T14:44:05.356777Z",
     "start_time": "2021-04-14T14:44:05.345886Z"
    }
   },
   "outputs": [
    {
     "name": "stdout",
     "output_type": "stream",
     "text": [
      "Деревьев с подклееными кликами: 1\n"
     ]
    }
   ],
   "source": [
    "# склейка показов и кликов для одного дерева\n",
    "def join_data(data):\n",
    "    joiner = baobab.common.ShowAndClicksJoiner()\n",
    "    if data.show is not None:\n",
    "        joiner.set_show(data.show)\n",
    "    for click in data.clicks:\n",
    "        joiner.add_event(click)\n",
    "    for tech in data.techs:\n",
    "        joiner.add_event(tech)\n",
    "    joiner.join()\n",
    "    return joiner\n",
    "\n",
    "joined_trees = [join_data(x) for x in visitor.baobab_tree_id_2_baobab_data.itervalues() if x]\n",
    "print \"Деревьев с подклееными кликами:\", len(joined_trees)"
   ]
  },
  {
   "cell_type": "code",
   "execution_count": 9,
   "metadata": {
    "ExecuteTime": {
     "end_time": "2021-04-14T14:44:05.388299Z",
     "start_time": "2021-04-14T14:44:05.359922Z"
    }
   },
   "outputs": [],
   "source": [
    "def get_path_from_root(block):\n",
    "    blocks = []\n",
    "    cur_block = block\n",
    "    while cur_block is not None:\n",
    "        block_type = cur_block.attrs.get('name', '')\n",
    "        blocks.append(cur_block.name + (('.' + cur_block.attrs.get('id')) if 'id' in cur_block.attrs else ''))\n",
    "        cur_block = cur_block.parent\n",
    "    return list(reversed(blocks))\n",
    "\n",
    "\n",
    "def get_attrs_from_root(block):\n",
    "    blocks = []\n",
    "    cur_block = block\n",
    "    while cur_block is not None:\n",
    "        blocks.append(cur_block.attrs)\n",
    "        cur_block = cur_block.parent\n",
    "    return list(reversed(blocks))\n",
    "\n",
    "\n",
    "\n",
    "def merge_two_dicts(x, y):\n",
    "    z = x.copy()\n",
    "    z.update(y)\n",
    "    return z\n",
    "\n",
    "\n",
    "def get_path_info_from_root(block):\n",
    "    report_paths = []\n",
    "    block_paths = []\n",
    "    attrs = []\n",
    "    cur_block = block\n",
    "    while cur_block is not None:\n",
    "        report_paths.append(cur_block.attrs.get('id', cur_block.attrs.get('title', cur_block.name)))\n",
    "        block_paths.append(cur_block.name)\n",
    "        attrs.append(cur_block.attrs)\n",
    "        cur_block = cur_block.parent\n",
    "\n",
    "#     мердж от корня, потомки имеют приоритет по одинаковым ключам\n",
    "    merged_attrs = reduce(lambda lhs, rhs: merge_two_dicts(lhs, rhs), reversed(attrs))\n",
    "\n",
    "    return list(reversed(report_paths)), list(reversed(block_paths)), merged_attrs"
   ]
  },
  {
   "cell_type": "code",
   "execution_count": 10,
   "metadata": {
    "ExecuteTime": {
     "end_time": "2021-04-14T14:44:05.397841Z",
     "start_time": "2021-04-14T14:44:05.392754Z"
    }
   },
   "outputs": [
    {
     "name": "stdout",
     "output_type": "stream",
     "text": [
      "Событий кроме показов: 12\n"
     ]
    }
   ],
   "source": [
    "tree = joined_trees[0]\n",
    "all_events = tree.get_all_events()\n",
    "print \"Событий кроме показов:\", len(all_events)"
   ]
  },
  {
   "cell_type": "code",
   "execution_count": 11,
   "metadata": {
    "ExecuteTime": {
     "end_time": "2021-04-14T14:44:05.410017Z",
     "start_time": "2021-04-14T14:44:05.402053Z"
    }
   },
   "outputs": [
    {
     "data": {
      "text/plain": [
       "{u'cts': 1617949662149,\n",
       " u'data': {u'type': u'allCheckboxClick'},\n",
       " u'event': u'click',\n",
       " u'event-id': u'kn9xgd6ta',\n",
       " u'id': u'jx14m3',\n",
       " u'service': u'direct'}"
      ]
     },
     "execution_count": 11,
     "metadata": {},
     "output_type": "execute_result"
    }
   ],
   "source": [
    "click = all_events[5]\n",
    "# click.context._event_data.get('data')\n",
    "click.context._event_data"
   ]
  },
  {
   "cell_type": "code",
   "execution_count": 12,
   "metadata": {
    "ExecuteTime": {
     "end_time": "2021-04-14T14:44:05.418817Z",
     "start_time": "2021-04-14T14:44:05.414162Z"
    }
   },
   "outputs": [],
   "source": [
    "# корень для начала обхода дерева показов\n",
    "root_block = tree.get_show().tree.root"
   ]
  },
  {
   "cell_type": "code",
   "execution_count": 13,
   "metadata": {
    "ExecuteTime": {
     "end_time": "2021-04-14T14:44:05.431317Z",
     "start_time": "2021-04-14T14:44:05.422997Z"
    }
   },
   "outputs": [
    {
     "data": {
      "text/plain": [
       "[u'app', u'Header', u'ServicesMenu']"
      ]
     },
     "execution_count": 13,
     "metadata": {},
     "output_type": "execute_result"
    }
   ],
   "source": [
    "get_path_from_root(root_block.first_child.first_child)"
   ]
  },
  {
   "cell_type": "code",
   "execution_count": 14,
   "metadata": {
    "ExecuteTime": {
     "end_time": "2021-04-14T14:44:05.444415Z",
     "start_time": "2021-04-14T14:44:05.435585Z"
    }
   },
   "outputs": [
    {
     "data": {
      "text/plain": [
       "[{u'pageUrl': u'direct.yandex.ru/dna/grid/campaigns?filter=%D0%A1%D1%82%D0%B0%D1%82%D1%83%D1%81%20%3D%20%D0%92%D1%81%D0%B5%2C%20%D0%BA%D1%80%D0%BE%D0%BC%D0%B5%20%D0%B0%D1%80%D1%85%D0%B8%D0%B2%D0%BD%D1%8B%D1%85%7Cdim%20%3D%20CPM&ulogin=kim-a-2015',\n",
       "  u'schema-ver': 0,\n",
       "  u'service': u'direct',\n",
       "  u'ui': u'desktop'},\n",
       " {},\n",
       " {}]"
      ]
     },
     "execution_count": 14,
     "metadata": {},
     "output_type": "execute_result"
    }
   ],
   "source": [
    "get_attrs_from_root(root_block.first_child.first_child)"
   ]
  },
  {
   "cell_type": "code",
   "execution_count": 15,
   "metadata": {
    "ExecuteTime": {
     "end_time": "2021-04-14T14:44:05.457657Z",
     "start_time": "2021-04-14T14:44:05.448466Z"
    }
   },
   "outputs": [
    {
     "data": {
      "text/plain": [
       "([u'app', u'Header', u'ServicesMenu'],\n",
       " [u'app', u'Header', u'ServicesMenu'],\n",
       " {u'pageUrl': u'direct.yandex.ru/dna/grid/campaigns?filter=%D0%A1%D1%82%D0%B0%D1%82%D1%83%D1%81%20%3D%20%D0%92%D1%81%D0%B5%2C%20%D0%BA%D1%80%D0%BE%D0%BC%D0%B5%20%D0%B0%D1%80%D1%85%D0%B8%D0%B2%D0%BD%D1%8B%D1%85%7Cdim%20%3D%20CPM&ulogin=kim-a-2015',\n",
       "  u'schema-ver': 0,\n",
       "  u'service': u'direct',\n",
       "  u'ui': u'desktop'})"
      ]
     },
     "execution_count": 15,
     "metadata": {},
     "output_type": "execute_result"
    }
   ],
   "source": [
    "get_path_info_from_root(root_block.first_child.first_child)"
   ]
  },
  {
   "cell_type": "code",
   "execution_count": 16,
   "metadata": {
    "ExecuteTime": {
     "end_time": "2021-04-14T14:44:05.559889Z",
     "start_time": "2021-04-14T14:44:05.461890Z"
    },
    "scrolled": false
   },
   "outputs": [
    {
     "data": {
      "text/plain": [
       "[{'action': 'click',\n",
       "  'attrs': {u'pageUrl': u'direct.yandex.ru/dna/grid/campaigns?filter=%D0%A1%D1%82%D0%B0%D1%82%D1%83%D1%81%20%3D%20%D0%92%D1%81%D0%B5%2C%20%D0%BA%D1%80%D0%BE%D0%BC%D0%B5%20%D0%B0%D1%80%D1%85%D0%B8%D0%B2%D0%BD%D1%8B%D1%85%7Cdim%20%3D%20CPM&ulogin=kim-a-2015',\n",
       "   u'schema-ver': 0,\n",
       "   u'service': u'direct',\n",
       "   u'ui': u'desktop'},\n",
       "  'block_path': [u'app', u'ButtonDecorator'],\n",
       "  'data': {u'uid': u'319077082', u'yandexuid': u'7918359461598019922'},\n",
       "  'event_time': 1617949601,\n",
       "  'page_url': u'direct.yandex.ru/dna/grid/campaigns?filter=%D0%A1%D1%82%D0%B0%D1%82%D1%83%D1%81%20%3D%20%D0%92%D1%81%D0%B5%2C%20%D0%BA%D1%80%D0%BE%D0%BC%D0%B5%20%D0%B0%D1%80%D1%85%D0%B8%D0%B2%D0%BD%D1%8B%D1%85%7Cdim%20%3D%20CPM&ulogin=kim-a-2015',\n",
       "  'puid': u'319077082',\n",
       "  'report_path': [u'app', u'ButtonDecorator'],\n",
       "  'tree_date': '2021-04-09',\n",
       "  'tree_time': 1617949385,\n",
       "  'yandexuid': u'7918359461598019922'},\n",
       " {'action': 'click',\n",
       "  'attrs': {u'pageUrl': u'direct.yandex.ru/dna/grid/campaigns?filter=%D0%A1%D1%82%D0%B0%D1%82%D1%83%D1%81%20%3D%20%D0%92%D1%81%D0%B5%2C%20%D0%BA%D1%80%D0%BE%D0%BC%D0%B5%20%D0%B0%D1%80%D1%85%D0%B8%D0%B2%D0%BD%D1%8B%D1%85%7Cdim%20%3D%20CPM&ulogin=kim-a-2015',\n",
       "   u'schema-ver': 0,\n",
       "   u'service': u'direct',\n",
       "   u'ui': u'desktop'},\n",
       "  'block_path': [u'app', u'ButtonDecorator'],\n",
       "  'data': {u'uid': u'319077082', u'yandexuid': u'7918359461598019922'},\n",
       "  'event_time': 1617949558,\n",
       "  'page_url': u'direct.yandex.ru/dna/grid/campaigns?filter=%D0%A1%D1%82%D0%B0%D1%82%D1%83%D1%81%20%3D%20%D0%92%D1%81%D0%B5%2C%20%D0%BA%D1%80%D0%BE%D0%BC%D0%B5%20%D0%B0%D1%80%D1%85%D0%B8%D0%B2%D0%BD%D1%8B%D1%85%7Cdim%20%3D%20CPM&ulogin=kim-a-2015',\n",
       "  'puid': u'319077082',\n",
       "  'report_path': [u'app', u'ButtonDecorator'],\n",
       "  'tree_date': '2021-04-09',\n",
       "  'tree_time': 1617949385,\n",
       "  'yandexuid': u'7918359461598019922'},\n",
       " {'action': 'click',\n",
       "  'attrs': {u'pageUrl': u'direct.yandex.ru/dna/grid/campaigns?filter=%D0%A1%D1%82%D0%B0%D1%82%D1%83%D1%81%20%3D%20%D0%92%D1%81%D0%B5%2C%20%D0%BA%D1%80%D0%BE%D0%BC%D0%B5%20%D0%B0%D1%80%D1%85%D0%B8%D0%B2%D0%BD%D1%8B%D1%85%7Cdim%20%3D%20CPM&ulogin=kim-a-2015',\n",
       "   u'schema-ver': 0,\n",
       "   u'service': u'direct',\n",
       "   u'ui': u'desktop'},\n",
       "  'block_path': [u'app', u'GridScreen', u'Grid', u'RoutedStyledLink'],\n",
       "  'data': {u'uid': u'319077082', u'yandexuid': u'7918359461598019922'},\n",
       "  'event_time': 1617949531,\n",
       "  'page_url': u'direct.yandex.ru/dna/grid/campaigns?filter=%D0%A1%D1%82%D0%B0%D1%82%D1%83%D1%81%20%3D%20%D0%92%D1%81%D0%B5%2C%20%D0%BA%D1%80%D0%BE%D0%BC%D0%B5%20%D0%B0%D1%80%D1%85%D0%B8%D0%B2%D0%BD%D1%8B%D1%85%7Cdim%20%3D%20CPM&ulogin=kim-a-2015',\n",
       "  'puid': u'319077082',\n",
       "  'report_path': [u'app', u'GridScreen', u'Grid', u'RoutedStyledLink'],\n",
       "  'tree_date': '2021-04-09',\n",
       "  'tree_time': 1617949385,\n",
       "  'yandexuid': u'7918359461598019922'},\n",
       " {'action': 'click',\n",
       "  'attrs': {u'pageUrl': u'direct.yandex.ru/dna/grid/campaigns?filter=%D0%A1%D1%82%D0%B0%D1%82%D1%83%D1%81%20%3D%20%D0%92%D1%81%D0%B5%2C%20%D0%BA%D1%80%D0%BE%D0%BC%D0%B5%20%D0%B0%D1%80%D1%85%D0%B8%D0%B2%D0%BD%D1%8B%D1%85%7Cdim%20%3D%20CPM&ulogin=kim-a-2015',\n",
       "   u'schema-ver': 0,\n",
       "   u'service': u'direct',\n",
       "   u'ui': u'desktop'},\n",
       "  'block_path': [u'app', u'ButtonDecorator'],\n",
       "  'data': {u'uid': u'319077082', u'yandexuid': u'7918359461598019922'},\n",
       "  'event_time': 1617949598,\n",
       "  'page_url': u'direct.yandex.ru/dna/grid/campaigns?filter=%D0%A1%D1%82%D0%B0%D1%82%D1%83%D1%81%20%3D%20%D0%92%D1%81%D0%B5%2C%20%D0%BA%D1%80%D0%BE%D0%BC%D0%B5%20%D0%B0%D1%80%D1%85%D0%B8%D0%B2%D0%BD%D1%8B%D1%85%7Cdim%20%3D%20CPM&ulogin=kim-a-2015',\n",
       "  'puid': u'319077082',\n",
       "  'report_path': [u'app', u'ButtonDecorator'],\n",
       "  'tree_date': '2021-04-09',\n",
       "  'tree_time': 1617949385,\n",
       "  'yandexuid': u'7918359461598019922'},\n",
       " {'action': 'click',\n",
       "  'attrs': {u'pageUrl': u'direct.yandex.ru/dna/grid/campaigns?filter=%D0%A1%D1%82%D0%B0%D1%82%D1%83%D1%81%20%3D%20%D0%92%D1%81%D0%B5%2C%20%D0%BA%D1%80%D0%BE%D0%BC%D0%B5%20%D0%B0%D1%80%D1%85%D0%B8%D0%B2%D0%BD%D1%8B%D1%85%7Cdim%20%3D%20CPM&ulogin=kim-a-2015',\n",
       "   u'schema-ver': 0,\n",
       "   u'service': u'direct',\n",
       "   u'ui': u'desktop'},\n",
       "  'block_path': [u'app', u'GridScreen', u'Grid', u'RoutedStyledLink'],\n",
       "  'data': {u'uid': u'319077082', u'yandexuid': u'7918359461598019922'},\n",
       "  'event_time': 1617949575,\n",
       "  'page_url': u'direct.yandex.ru/dna/grid/campaigns?filter=%D0%A1%D1%82%D0%B0%D1%82%D1%83%D1%81%20%3D%20%D0%92%D1%81%D0%B5%2C%20%D0%BA%D1%80%D0%BE%D0%BC%D0%B5%20%D0%B0%D1%80%D1%85%D0%B8%D0%B2%D0%BD%D1%8B%D1%85%7Cdim%20%3D%20CPM&ulogin=kim-a-2015',\n",
       "  'puid': u'319077082',\n",
       "  'report_path': [u'app', u'GridScreen', u'Grid', u'RoutedStyledLink'],\n",
       "  'tree_date': '2021-04-09',\n",
       "  'tree_time': 1617949385,\n",
       "  'yandexuid': u'7918359461598019922'},\n",
       " {'action': 'click',\n",
       "  'attrs': {u'pageUrl': u'direct.yandex.ru/dna/grid/campaigns?filter=%D0%A1%D1%82%D0%B0%D1%82%D1%83%D1%81%20%3D%20%D0%92%D1%81%D0%B5%2C%20%D0%BA%D1%80%D0%BE%D0%BC%D0%B5%20%D0%B0%D1%80%D1%85%D0%B8%D0%B2%D0%BD%D1%8B%D1%85%7Cdim%20%3D%20CPM&ulogin=kim-a-2015',\n",
       "   u'schema-ver': 0,\n",
       "   u'service': u'direct',\n",
       "   u'ui': u'desktop'},\n",
       "  'block_path': [u'app', u'ButtonDecorator'],\n",
       "  'data': {u'uid': u'319077082', u'yandexuid': u'7918359461598019922'},\n",
       "  'event_time': 1617949519,\n",
       "  'page_url': u'direct.yandex.ru/dna/grid/campaigns?filter=%D0%A1%D1%82%D0%B0%D1%82%D1%83%D1%81%20%3D%20%D0%92%D1%81%D0%B5%2C%20%D0%BA%D1%80%D0%BE%D0%BC%D0%B5%20%D0%B0%D1%80%D1%85%D0%B8%D0%B2%D0%BD%D1%8B%D1%85%7Cdim%20%3D%20CPM&ulogin=kim-a-2015',\n",
       "  'puid': u'319077082',\n",
       "  'report_path': [u'app', u'ButtonDecorator'],\n",
       "  'tree_date': '2021-04-09',\n",
       "  'tree_time': 1617949385,\n",
       "  'yandexuid': u'7918359461598019922'},\n",
       " {'action': 'click',\n",
       "  'attrs': {u'pageUrl': u'direct.yandex.ru/dna/grid/campaigns?filter=%D0%A1%D1%82%D0%B0%D1%82%D1%83%D1%81%20%3D%20%D0%92%D1%81%D0%B5%2C%20%D0%BA%D1%80%D0%BE%D0%BC%D0%B5%20%D0%B0%D1%80%D1%85%D0%B8%D0%B2%D0%BD%D1%8B%D1%85%7Cdim%20%3D%20CPM&ulogin=kim-a-2015',\n",
       "   u'schema-ver': 0,\n",
       "   u'service': u'direct',\n",
       "   u'ui': u'desktop'},\n",
       "  'block_path': [u'app', u'ButtonDecorator'],\n",
       "  'data': {u'uid': u'319077082', u'yandexuid': u'7918359461598019922'},\n",
       "  'event_time': 1617949505,\n",
       "  'page_url': u'direct.yandex.ru/dna/grid/campaigns?filter=%D0%A1%D1%82%D0%B0%D1%82%D1%83%D1%81%20%3D%20%D0%92%D1%81%D0%B5%2C%20%D0%BA%D1%80%D0%BE%D0%BC%D0%B5%20%D0%B0%D1%80%D1%85%D0%B8%D0%B2%D0%BD%D1%8B%D1%85%7Cdim%20%3D%20CPM&ulogin=kim-a-2015',\n",
       "  'puid': u'319077082',\n",
       "  'report_path': [u'app', u'ButtonDecorator'],\n",
       "  'tree_date': '2021-04-09',\n",
       "  'tree_time': 1617949385,\n",
       "  'yandexuid': u'7918359461598019922'},\n",
       " {'action': 'click',\n",
       "  'attrs': {u'pageUrl': u'direct.yandex.ru/dna/grid/campaigns?filter=%D0%A1%D1%82%D0%B0%D1%82%D1%83%D1%81%20%3D%20%D0%92%D1%81%D0%B5%2C%20%D0%BA%D1%80%D0%BE%D0%BC%D0%B5%20%D0%B0%D1%80%D1%85%D0%B8%D0%B2%D0%BD%D1%8B%D1%85%7Cdim%20%3D%20CPM&ulogin=kim-a-2015',\n",
       "   u'schema-ver': 0,\n",
       "   u'service': u'direct',\n",
       "   u'ui': u'desktop'},\n",
       "  'block_path': [u'app',\n",
       "   u'GridScreen',\n",
       "   u'GridToolbox',\n",
       "   u'DimensionFilter',\n",
       "   u'ButtonDecorator'],\n",
       "  'data': {u'uid': u'319077082', u'yandexuid': u'7918359461598019922'},\n",
       "  'event_time': 1617949448,\n",
       "  'page_url': u'direct.yandex.ru/dna/grid/campaigns?filter=%D0%A1%D1%82%D0%B0%D1%82%D1%83%D1%81%20%3D%20%D0%92%D1%81%D0%B5%2C%20%D0%BA%D1%80%D0%BE%D0%BC%D0%B5%20%D0%B0%D1%80%D1%85%D0%B8%D0%B2%D0%BD%D1%8B%D1%85%7Cdim%20%3D%20CPM&ulogin=kim-a-2015',\n",
       "  'puid': u'319077082',\n",
       "  'report_path': [u'app',\n",
       "   u'GridScreen',\n",
       "   u'GridToolbox',\n",
       "   u'DimensionFilter',\n",
       "   u'ButtonDecorator'],\n",
       "  'tree_date': '2021-04-09',\n",
       "  'tree_time': 1617949385,\n",
       "  'yandexuid': u'7918359461598019922'},\n",
       " {'action': 'click',\n",
       "  'attrs': {u'pageUrl': u'direct.yandex.ru/dna/grid/campaigns?filter=%D0%A1%D1%82%D0%B0%D1%82%D1%83%D1%81%20%3D%20%D0%92%D1%81%D0%B5%2C%20%D0%BA%D1%80%D0%BE%D0%BC%D0%B5%20%D0%B0%D1%80%D1%85%D0%B8%D0%B2%D0%BD%D1%8B%D1%85%7Cdim%20%3D%20CPM&ulogin=kim-a-2015',\n",
       "   u'schema-ver': 0,\n",
       "   u'service': u'direct',\n",
       "   u'ui': u'desktop'},\n",
       "  'block_path': [u'app', u'GridScreen', u'Grid'],\n",
       "  'data': {u'type': u'allCheckboxClick',\n",
       "   u'uid': u'319077082',\n",
       "   u'yandexuid': u'7918359461598019922'},\n",
       "  'event_time': 1617949666,\n",
       "  'page_url': u'direct.yandex.ru/dna/grid/campaigns?filter=%D0%A1%D1%82%D0%B0%D1%82%D1%83%D1%81%20%3D%20%D0%92%D1%81%D0%B5%2C%20%D0%BA%D1%80%D0%BE%D0%BC%D0%B5%20%D0%B0%D1%80%D1%85%D0%B8%D0%B2%D0%BD%D1%8B%D1%85%7Cdim%20%3D%20CPM&ulogin=kim-a-2015',\n",
       "  'puid': u'319077082',\n",
       "  'report_path': [u'app', u'GridScreen', u'Grid'],\n",
       "  'tree_date': '2021-04-09',\n",
       "  'tree_time': 1617949385,\n",
       "  'yandexuid': u'7918359461598019922'},\n",
       " {'action': 'click',\n",
       "  'attrs': {u'pageUrl': u'direct.yandex.ru/dna/grid/campaigns?filter=%D0%A1%D1%82%D0%B0%D1%82%D1%83%D1%81%20%3D%20%D0%92%D1%81%D0%B5%2C%20%D0%BA%D1%80%D0%BE%D0%BC%D0%B5%20%D0%B0%D1%80%D1%85%D0%B8%D0%B2%D0%BD%D1%8B%D1%85%7Cdim%20%3D%20CPM&ulogin=kim-a-2015',\n",
       "   u'schema-ver': 0,\n",
       "   u'service': u'direct',\n",
       "   u'ui': u'desktop'},\n",
       "  'block_path': [u'app', u'ButtonDecorator'],\n",
       "  'data': {u'uid': u'319077082', u'yandexuid': u'7918359461598019922'},\n",
       "  'event_time': 1617949560,\n",
       "  'page_url': u'direct.yandex.ru/dna/grid/campaigns?filter=%D0%A1%D1%82%D0%B0%D1%82%D1%83%D1%81%20%3D%20%D0%92%D1%81%D0%B5%2C%20%D0%BA%D1%80%D0%BE%D0%BC%D0%B5%20%D0%B0%D1%80%D1%85%D0%B8%D0%B2%D0%BD%D1%8B%D1%85%7Cdim%20%3D%20CPM&ulogin=kim-a-2015',\n",
       "  'puid': u'319077082',\n",
       "  'report_path': [u'app', u'ButtonDecorator'],\n",
       "  'tree_date': '2021-04-09',\n",
       "  'tree_time': 1617949385,\n",
       "  'yandexuid': u'7918359461598019922'},\n",
       " {'action': 'click',\n",
       "  'attrs': {u'count': 1,\n",
       "   u'pageUrl': u'direct.yandex.ru/dna/grid/campaigns?filter=%D0%A1%D1%82%D0%B0%D1%82%D1%83%D1%81%20%3D%20%D0%92%D1%81%D0%B5%2C%20%D0%BA%D1%80%D0%BE%D0%BC%D0%B5%20%D0%B0%D1%80%D1%85%D0%B8%D0%B2%D0%BD%D1%8B%D1%85%7Cdim%20%3D%20CPM&ulogin=kim-a-2015',\n",
       "   u'schema-ver': 0,\n",
       "   u'service': u'direct',\n",
       "   u'ui': u'desktop'},\n",
       "  'block_path': [u'app', u'GridScreen', u'BulkActionsPanel', u'ActionsButton'],\n",
       "  'data': {u'uid': u'319077082', u'yandexuid': u'7918359461598019922'},\n",
       "  'event_time': 1617949669,\n",
       "  'page_url': u'direct.yandex.ru/dna/grid/campaigns?filter=%D0%A1%D1%82%D0%B0%D1%82%D1%83%D1%81%20%3D%20%D0%92%D1%81%D0%B5%2C%20%D0%BA%D1%80%D0%BE%D0%BC%D0%B5%20%D0%B0%D1%80%D1%85%D0%B8%D0%B2%D0%BD%D1%8B%D1%85%7Cdim%20%3D%20CPM&ulogin=kim-a-2015',\n",
       "  'puid': u'319077082',\n",
       "  'report_path': [u'app',\n",
       "   u'GridScreen',\n",
       "   u'BulkActionsPanel',\n",
       "   u'ActionsButton'],\n",
       "  'tree_date': '2021-04-09',\n",
       "  'tree_time': 1617949385,\n",
       "  'yandexuid': u'7918359461598019922'},\n",
       " {'action': 'click',\n",
       "  'attrs': {u'pageUrl': u'direct.yandex.ru/dna/grid/campaigns?filter=%D0%A1%D1%82%D0%B0%D1%82%D1%83%D1%81%20%3D%20%D0%92%D1%81%D0%B5%2C%20%D0%BA%D1%80%D0%BE%D0%BC%D0%B5%20%D0%B0%D1%80%D1%85%D0%B8%D0%B2%D0%BD%D1%8B%D1%85%7Cdim%20%3D%20CPM&ulogin=kim-a-2015',\n",
       "   u'schema-ver': 0,\n",
       "   u'service': u'direct',\n",
       "   u'ui': u'desktop'},\n",
       "  'block_path': [u'app', u'GridScreen', u'Grid', u'RoutedStyledLink'],\n",
       "  'data': {u'uid': u'319077082', u'yandexuid': u'7918359461598019922'},\n",
       "  'event_time': 1617949482,\n",
       "  'page_url': u'direct.yandex.ru/dna/grid/campaigns?filter=%D0%A1%D1%82%D0%B0%D1%82%D1%83%D1%81%20%3D%20%D0%92%D1%81%D0%B5%2C%20%D0%BA%D1%80%D0%BE%D0%BC%D0%B5%20%D0%B0%D1%80%D1%85%D0%B8%D0%B2%D0%BD%D1%8B%D1%85%7Cdim%20%3D%20CPM&ulogin=kim-a-2015',\n",
       "  'puid': u'319077082',\n",
       "  'report_path': [u'app', u'GridScreen', u'Grid', u'RoutedStyledLink'],\n",
       "  'tree_date': '2021-04-09',\n",
       "  'tree_time': 1617949385,\n",
       "  'yandexuid': u'7918359461598019922'}]"
      ]
     },
     "execution_count": 16,
     "metadata": {},
     "output_type": "execute_result"
    }
   ],
   "source": [
    "def process_tree(joined_data):\n",
    "\n",
    "    show = joined_data.get_show()\n",
    "    root_block = show.tree.root\n",
    "    block_shows = []\n",
    "    block_clicks = dict()\n",
    "\n",
    "    show_data =  show.context._event_data.get('data', dict())\n",
    "    puid = show_data.get('uid')\n",
    "    yandexuid = show_data.get('yandexuid')\n",
    "    \n",
    "    tree_time = show.context.server_time\n",
    "    tree_date = dt.datetime.fromtimestamp(show.context.server_time).strftime(\"%Y-%m-%d\")\n",
    "\n",
    "    for block in baobab.common.dfs_iterator(root_block):\n",
    "        show_path, block_path, show_attrs = get_path_info_from_root(block)\n",
    "        page_url = show_attrs.get(\"pageUrl\")\n",
    "\n",
    "        block_shows.append({\n",
    "            \"report_path\": show_path,\n",
    "            \"block_path\": block_path,\n",
    "            \"page_url\": page_url,\n",
    "            \"attrs\": show_attrs,\n",
    "            \"data\": show_data,\n",
    "            \"action\": \"show\",\n",
    "            \"puid\": puid,\n",
    "            \"yandexuid\": yandexuid,\n",
    "            \"tree_time\": tree_time,\n",
    "            \"tree_date\": tree_date,\n",
    "            \"event_time\": tree_time\n",
    "        })\n",
    "\n",
    "        for event in joined_data.get_events_by_block(block):\n",
    "            if isinstance(event, baobab.common.event.Click):\n",
    "                click_attrs = merge_two_dicts(show_attrs, event.context._event_data.get(\"attrs\", dict()))\n",
    "                click_data = merge_two_dicts(show_data, event.context._event_data.get('data', dict()))\n",
    "                page_url = click_attrs.get(\"pageUrl\", page_url)\n",
    "                block_clicks[event.event_id] = {\n",
    "                    \"report_path\": show_path,\n",
    "                    \"block_path\": block_path,\n",
    "                    \"page_url\": page_url,\n",
    "                    \"attrs\": click_attrs,\n",
    "                    \"data\": click_data,\n",
    "                    \"action\": \"click\",\n",
    "                    \"puid\": puid,\n",
    "                    \"yandexuid\": yandexuid,\n",
    "                    \"tree_time\": tree_time,\n",
    "                    \"tree_date\": tree_date,\n",
    "                    \"event_time\": event.context.server_time\n",
    "                }\n",
    "\n",
    "    return block_shows + block_clicks.values()\n",
    "\n",
    "events = process_tree(joined_trees[0])\n",
    "list(filter(lambda x: x[\"action\"] == \"click\", events))"
   ]
  },
  {
   "cell_type": "code",
   "execution_count": 17,
   "metadata": {
    "ExecuteTime": {
     "end_time": "2021-04-14T14:44:05.570228Z",
     "start_time": "2021-04-14T14:44:05.564545Z"
    }
   },
   "outputs": [
    {
     "name": "stdout",
     "output_type": "stream",
     "text": [
      "app\n"
     ]
    }
   ],
   "source": [
    "for tree in joined_trees:\n",
    "    print tree.get_show().tree.root.name"
   ]
  },
  {
   "cell_type": "code",
   "execution_count": 18,
   "metadata": {
    "ExecuteTime": {
     "end_time": "2021-04-14T14:44:05.579547Z",
     "start_time": "2021-04-14T14:44:05.574486Z"
    }
   },
   "outputs": [],
   "source": [
    "click = tree.get_events_by_block(tree.get_show().tree.root.first_child.next_sibling)"
   ]
  },
  {
   "cell_type": "code",
   "execution_count": 19,
   "metadata": {
    "ExecuteTime": {
     "end_time": "2021-04-14T14:44:05.711579Z",
     "start_time": "2021-04-14T14:44:05.583914Z"
    }
   },
   "outputs": [
    {
     "ename": "TypeError",
     "evalue": "list indices must be integers, not list",
     "output_type": "error",
     "traceback": [
      "\u001b[0;31m\u001b[0m",
      "\u001b[0;31mTypeError\u001b[0mTraceback (most recent call last)",
      "\u001b[0;32m<ipython-input-19-790d7ce45c44>\u001b[0m in \u001b[0;36m<module>\u001b[0;34m()\u001b[0m\n\u001b[0;32m----> 1\u001b[0;31m \u001b[0mtree\u001b[0m\u001b[0;34m.\u001b[0m\u001b[0mget_show\u001b[0m\u001b[0;34m(\u001b[0m\u001b[0;34m)\u001b[0m\u001b[0;34m.\u001b[0m\u001b[0mtree\u001b[0m\u001b[0;34m.\u001b[0m\u001b[0mget_block_by_id\u001b[0m\u001b[0;34m(\u001b[0m\u001b[0mclick\u001b[0m\u001b[0;34m[\u001b[0m\u001b[0mclick\u001b[0m\u001b[0;34m]\u001b[0m\u001b[0;34m.\u001b[0m\u001b[0mblock_id\u001b[0m\u001b[0;34m)\u001b[0m\u001b[0;34m\u001b[0m\u001b[0m\n\u001b[0m",
      "\u001b[0;31mTypeError\u001b[0m: list indices must be integers, not list"
     ]
    }
   ],
   "source": [
    "tree.get_show().tree.get_block_by_id(click[click].block_id)"
   ]
  }
 ],
 "metadata": {
  "kernelspec": {
   "display_name": "Arcadia Python 2 Default",
   "language": "python",
   "name": "arcadia_default_py2"
  },
  "language_info": {
   "codemirror_mode": {
    "name": "ipython",
    "version": 2
   },
   "file_extension": ".py",
   "mimetype": "text/x-python",
   "name": "python",
   "nbconvert_exporter": "python",
   "pygments_lexer": "ipython2",
   "version": "2.7.16"
  }
 },
 "nbformat": 4,
 "nbformat_minor": 4
}
